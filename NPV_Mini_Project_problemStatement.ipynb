{
 "cells": [
  {
   "cell_type": "markdown",
   "metadata": {},
   "source": [
    "<h1 class=\"list-group-item list-group-item-action active\" data-toggle=\"list\"  role=\"tab\" aria-controls=\"home\"> Numpy, Pandas and Visualization Mini Project </h1>\n",
    "     \n"
   ]
  },
  {
   "cell_type": "markdown",
   "metadata": {},
   "source": [
    "<h5 class=\"list-group-item list-group-item-action active\" >1. Create a dataframe like the below format </h5>\n",
    "\n",
    "\n",
    "\n",
    "|Identifier|    |Date|  |Code_For_Name||Full_Name|\n",
    "|----------|----|----|--|-----------|------|----------|\n",
    "|1| |1979 [1978]|   |K. K.| |Mickéy Mousé|\n",
    "|2| |1868|  |L., L. L.| |Donald Duck|\n",
    "|218|   |1869|  |RemaÊ¿.||Mini Mouse|\n",
    "|472|   |1851|  |A'BECKETT, Gilbert Abbott.||Donald Duck|\n",
    "|5| |1857|  |ABATI, Francesco.||Pink Panther|\n",
    "\n",
    "\n",
    ">###### 1.A) Clean the `date` column as shown in below format without using replace function.\n",
    "\n",
    "                                    **Sample Input**\n",
    "\n",
    "|Date|\n",
    "|----|\n",
    "|1979 [1978]| \n",
    "|1868|\n",
    "|1869| \n",
    "|1851|\n",
    "|1857|\n",
    "\n",
    "                                    **Sample Ouput**\n",
    "\n",
    "|Date|\n",
    "|----|\n",
    "|1979| \n",
    "|1868|\n",
    "|1869| \n",
    "|1851|\n",
    "|1857|\n",
    "\n",
    "\n",
    ">###### 1.B) Clean the `Code_For_Name` column as shown in below format without using replace function.\n",
    "\n",
    "                                    **Sample Input**\n",
    "\n",
    "|Code_For_Name|\n",
    "|----|\n",
    "|K. K.| \n",
    "|L., L. L.|\n",
    "|Rema¿.| \n",
    "|A'BECKETT, Gilbert Abbott.|\n",
    "|ABATI, Francesco.|\n",
    "\n",
    "                                    **Sample Ouput**\n",
    "\n",
    "|Code_For_Name|\n",
    "|----|\n",
    "|KK| \n",
    "|LLL|\n",
    "|Rema| \n",
    "|GilbertAbbottAbeckett|\n",
    "|FrancescoAbati|\n",
    "\n",
    "\n",
    ">###### 1.C) Clean the `Full_Name` column as shown in below format.\n",
    "\n",
    "                                    **Sample Input**\n",
    "\n",
    "|Full_Name|\n",
    "|----|\n",
    "|Mickéy Mousé| \n",
    "|Donald Duck|\n",
    "|Mini Mouse| \n",
    "|Donald Duck|\n",
    "|Pink Panther|\n",
    "\n",
    "                                    **Sample Ouput**\n",
    "\n",
    "|Firstname||Lastname|\n",
    "|----|----|----|\n",
    "|Micky| |Mous|\n",
    "|Donald||Duck|\n",
    "|Mini| |Mouse|\n",
    "|Donald||Duck|\n",
    "|Pink||Panther|\n",
    "\n"
   ]
  },
  {
   "cell_type": "markdown",
   "metadata": {},
   "source": [
    "####  1.A) Clean the `date` column as shown in below format without using replace function."
   ]
  },
  {
   "cell_type": "code",
   "execution_count": null,
   "metadata": {},
   "outputs": [],
   "source": []
  },
  {
   "cell_type": "markdown",
   "metadata": {},
   "source": [
    "###### 1.B) Clean the `Code_For_Name` column as shown in below format without using replace function."
   ]
  },
  {
   "cell_type": "code",
   "execution_count": null,
   "metadata": {},
   "outputs": [],
   "source": []
  },
  {
   "cell_type": "markdown",
   "metadata": {},
   "source": [
    "###### 1.C) Clean the `Full_Name` column as shown in below format.\n"
   ]
  },
  {
   "cell_type": "code",
   "execution_count": null,
   "metadata": {},
   "outputs": [],
   "source": []
  },
  {
   "cell_type": "markdown",
   "metadata": {},
   "source": [
    "<h5 class=\"list-group-item list-group-item-action active\" >2. Read the dataset called Menu_list_Carbohydrates.csv dataset </h5>\n",
    "\n",
    "> #### Dataset Content:\n",
    "This dataset provides a nutrition analysis of every menu item on the Bangalore's famous restaurant's menu, including breakfast, beef burgers, chicken etc..\n",
    "\n",
    "> ##### A. Display the dataset of dimensions,datatype, statistic summary.\n",
    "\n",
    "> ##### B. Which are the top 10 items that have the least Carbohydrates?\n",
    "\n",
    "> ##### C. Which are the top 10 items that have the most Carbohydrates?\n",
    "\n",
    "> ##### D. Display the bar graph for the frequncy of Categories of food items and write your observations.\n",
    "\n",
    "> ##### E. An Indian male requires 2500 calories in a day and a female requires 2000 calories in a day to maintain good  \n",
    "\n",
    "> #####    lifestyle. Find the solutions as displayed in sample output1 and 2.\n",
    "\n",
    "        Sample Output1:\n",
    "\n",
    "        * Average calories of 'Beverages' category is 796.67\n",
    "        * On an Average 'Beverages' contributes to men's calories intake  0.32\n",
    "        * On an Average 'Beverages' contributes to women's calories intake  0.4\n",
    "\n",
    "        Sample Output2:\n",
    "\n",
    "        * Average calories of 'Coffee & Tea' category is 323.33\n",
    "        * Averagely 'Coffee & Tea' contributes to men's calories intake for  0.13\n",
    "        * Averagely 'Coffee & Tea' contributes to women's calories intake for  0.16\n",
    "        \n",
    "        Steps to get the output1\n",
    "        1. For each item of Beverages display calorie and calculate the contribution of that food item in the male and females's daily calorie need. \n",
    "        2. Calculate average calories for the beverages category\n",
    "        3. Calculate average contribution of calorie for male's requirement using beverages category\n",
    "        4. Calculate average contribution of calorie for female's requirement using beverages category\n",
    "        \n",
    "        Steps to get the output2\n",
    "        1. For each item of 'Coffee & Tea' display calorie and calculate the contribution of that food item in the male and    females's daily calorie need. \n",
    "        2. Calculate average calories for the 'Coffee & Tea' category\n",
    "        3. Calculate average contribution of calorie for male's requirement using 'Coffee & Tea' category\n",
    "        4. Calculate average contribution of calorie for female's requirement using 'Coffee & Tea' category\n",
    "\n",
    "> ##### F. If you order grilled chicken rather than crispy chicken, what is the change in calorie intake?\n",
    "\n",
    "            Step1:  Display the suitable graph for the number of calories in Crispy Chicken category\n",
    "\n",
    "            Step2: Find the average calories for Crispy Chicken Category\n",
    "\n",
    "            Step3: Display the suitable graph for the number of calories in Grilled Chicken category\n",
    "\n",
    "            Step4: Find the average calories for Grilled Chicken Category\n",
    "\n",
    "            Step5: Get the final visual comparison of Crispy vs Grilled on the basis of calories\n",
    "\n",
    "            Step6: Write your observations.\n",
    "            \n",
    "> ##### G. Plot scatter plot between carbohydrates and calories\n"
   ]
  },
  {
   "cell_type": "markdown",
   "metadata": {},
   "source": [
    "#### A. Display the dataset of dimensions,datatype, statistic summary."
   ]
  },
  {
   "cell_type": "code",
   "execution_count": null,
   "metadata": {},
   "outputs": [],
   "source": []
  },
  {
   "cell_type": "markdown",
   "metadata": {},
   "source": [
    "#### B. Which are the top 10 items that have the least Carbohydrates?"
   ]
  },
  {
   "cell_type": "code",
   "execution_count": null,
   "metadata": {},
   "outputs": [],
   "source": []
  },
  {
   "cell_type": "markdown",
   "metadata": {},
   "source": [
    "#### C. Which are the top 10 items that have the most Carbohydrates?"
   ]
  },
  {
   "cell_type": "code",
   "execution_count": null,
   "metadata": {},
   "outputs": [],
   "source": []
  },
  {
   "cell_type": "markdown",
   "metadata": {},
   "source": [
    "#### D. Display the bar graph for frequncy of `Categories` of food items and write your observations."
   ]
  },
  {
   "cell_type": "code",
   "execution_count": null,
   "metadata": {},
   "outputs": [],
   "source": []
  },
  {
   "cell_type": "code",
   "execution_count": null,
   "metadata": {},
   "outputs": [],
   "source": []
  },
  {
   "cell_type": "markdown",
   "metadata": {},
   "source": [
    "#### E. An Indian male requires 2500 calories in a day and a female requires 2000 calories in a day to maintain good lifestyle. Find the solutions as displayed in sample output1 and 2.\n",
    "    Sample Output1:\n",
    "\n",
    "    * Average calories of 'Beverages' category is 796.67\n",
    "    * On an Average 'Beverages' contributes to men's calories intake  0.32\n",
    "    * On an Average 'Beverages' contributes to women's calories intake  0.4\n",
    "    \n",
    "    Steps to get the output1\n",
    "    1. For each item of Beverages display calorie and calculate the contribution of that food item in the male and females's daily calorie need. \n",
    "    2. Calculate average calories for the beverages category\n",
    "    3. Calculate average contribution of calorie for male's requirement using beverages category\n",
    "    4. Calculate average contribution of calorie for female's requirement using beverages category\n"
   ]
  },
  {
   "cell_type": "code",
   "execution_count": null,
   "metadata": {},
   "outputs": [],
   "source": []
  },
  {
   "cell_type": "markdown",
   "metadata": {},
   "source": [
    "**Sample Output2**\n",
    "\n",
    "* Average calories of 'Coffee & Tea' category is 323.33\n",
    "* Averagely 'Coffee & Tea' contributes to men's calories intake for  0.13\n",
    "* Averagely 'Coffee & Tea' contributes to women's calories intake for  0.16\n",
    "\n",
    "    Steps to get the output2\n",
    "    1. For each item of 'Coffee & Tea' display calorie and calculate the contribution of that food item in the male and    females's daily calorie need. \n",
    "    2. Calculate average calories for the 'Coffee & Tea' category\n",
    "    3. Calculate average contribution of calorie for male's requirement using 'Coffee & Tea' category\n",
    "    4. Calculate average contribution of calorie for female's requirement using 'Coffee & Tea' category"
   ]
  },
  {
   "cell_type": "code",
   "execution_count": null,
   "metadata": {},
   "outputs": [],
   "source": []
  },
  {
   "cell_type": "markdown",
   "metadata": {},
   "source": [
    "#### F. If you order grilled chicken rather than crispy chicken, what is the change in calorie intake?\n",
    "        Step1:  Display the suitable graph for the number of calories in Crispy Chicken category\n",
    "\n",
    "        Step2: Find the average calories for Crispy Chicken Category\n",
    "\n",
    "        Step3: Display the suitable graph for the number of calories in Grilled Chicken category\n",
    "\n",
    "        Step4: Find the average calories for Grilled Chicken Category\n",
    "\n",
    "        Step5: Get the final visual comparison of Crispy vs Grilled on the basis of calories\n",
    "\n",
    "        Step6: Write your observations."
   ]
  },
  {
   "cell_type": "markdown",
   "metadata": {},
   "source": [
    "##### Step1: Display the suitable graph for the number of calories in Crispy Chicken category"
   ]
  },
  {
   "cell_type": "code",
   "execution_count": null,
   "metadata": {},
   "outputs": [],
   "source": []
  },
  {
   "cell_type": "markdown",
   "metadata": {},
   "source": [
    "##### Step2: Find the average calories for Crispy Chicken Category"
   ]
  },
  {
   "cell_type": "code",
   "execution_count": null,
   "metadata": {},
   "outputs": [],
   "source": []
  },
  {
   "cell_type": "markdown",
   "metadata": {},
   "source": [
    "##### Step3: Display the suitable graph for the number of calories in Grilled Chicken category"
   ]
  },
  {
   "cell_type": "code",
   "execution_count": null,
   "metadata": {},
   "outputs": [],
   "source": []
  },
  {
   "cell_type": "markdown",
   "metadata": {},
   "source": [
    "##### Step4:Find the average calories for Grilled Chicken Category"
   ]
  },
  {
   "cell_type": "code",
   "execution_count": null,
   "metadata": {},
   "outputs": [],
   "source": []
  },
  {
   "cell_type": "markdown",
   "metadata": {},
   "source": [
    "##### Step 5: Get the final visual comparison of Crispy vs Grilled on the basis of calories"
   ]
  },
  {
   "cell_type": "code",
   "execution_count": null,
   "metadata": {},
   "outputs": [],
   "source": []
  },
  {
   "cell_type": "markdown",
   "metadata": {},
   "source": [
    "##### Step6: Write your observations"
   ]
  },
  {
   "cell_type": "code",
   "execution_count": null,
   "metadata": {},
   "outputs": [],
   "source": []
  },
  {
   "cell_type": "markdown",
   "metadata": {},
   "source": [
    "##### G. Plot scatter plot between carbohydrates and calories"
   ]
  },
  {
   "cell_type": "code",
   "execution_count": null,
   "metadata": {},
   "outputs": [],
   "source": []
  }
 ],
 "metadata": {
  "kernelspec": {
   "display_name": "Python 3",
   "language": "python",
   "name": "python3"
  },
  "language_info": {
   "codemirror_mode": {
    "name": "ipython",
    "version": 3
   },
   "file_extension": ".py",
   "mimetype": "text/x-python",
   "name": "python",
   "nbconvert_exporter": "python",
   "pygments_lexer": "ipython3",
   "version": "3.7.4"
  }
 },
 "nbformat": 4,
 "nbformat_minor": 4
}
